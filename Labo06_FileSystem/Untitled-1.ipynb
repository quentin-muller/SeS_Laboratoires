{
 "cells": [
  {
   "cell_type": "code",
   "execution_count": 1,
   "metadata": {},
   "outputs": [],
   "source": [
    "import numpy as np"
   ]
  },
  {
   "cell_type": "code",
   "execution_count": 2,
   "metadata": {},
   "outputs": [],
   "source": [
    "header = {\"keyslots\":{\"0\":{\"type\":\"luks2\",\"key_size\":64,\"af\":{\"type\":\"luks1\",\"stripes\":4000,\"hash\":\"sha256\"},\"area\":{\"type\":\"raw\",\"offset\":\"32768\",\"size\":\"258048\",\"encryption\":\"aes-xts-plain64\",\"key_size\":64},\"kdf\":{\"type\":\"pbkdf2\",\"hash\":\"sha256\",\"iterations\":2668132,\"salt\":\"YVAj9pV3AUHax+UY94t9ppiVkaQqGuFNuWyjTX7XkC0=\"}},\"1\":{\"type\":\"luks2\",\"key_size\":64,\"af\":{\"type\":\"luks1\",\"stripes\":4000,\"hash\":\"sha256\"},\"area\":{\"type\":\"raw\",\"offset\":\"290816\",\"size\":\"258048\",\"encryption\":\"aes-xts-plain64\",\"key_size\":64},\"kdf\":{\"type\":\"argon2i\",\"time\":4,\"memory\":957774,\"cpus\":2,\"salt\":\"IfefIdYOzMicOddhYU777gF85B0VIgmxVggm1bD8QWU=\"}}},\"tokens\":{},\"segments\":{\"0\":{\"type\":\"crypt\",\"offset\":\"16777216\",\"size\":\"dynamic\",\"iv_tweak\":\"0\",\"encryption\":\"aes-xts-plain64\",\"sector_size\":512}},\"digests\":{\"0\":{\"type\":\"pbkdf2\",\"keyslots\":[\"0\",\"1\"],\"segments\":[\"0\"],\"hash\":\"sha256\",\"iterations\":172918,\"salt\":\"6kx2JyC1vFlcvBnPjZSRVtxFrbSbUzSmcsd2sXKVmc0=\",\"digest\":\"E1dZnyFebztulM6e3fDtAF5HxrLsnOG4eu4bh3pf4tI=\"}},\"config\":{\"json_size\":\"12288\",\"keyslots_size\":\"16744448\"}}"
   ]
  },
  {
   "cell_type": "code",
   "execution_count": 3,
   "metadata": {},
   "outputs": [
    {
     "data": {
      "text/plain": [
       "{'0': {'type': 'luks2',\n",
       "  'key_size': 64,\n",
       "  'af': {'type': 'luks1', 'stripes': 4000, 'hash': 'sha256'},\n",
       "  'area': {'type': 'raw',\n",
       "   'offset': '32768',\n",
       "   'size': '258048',\n",
       "   'encryption': 'aes-xts-plain64',\n",
       "   'key_size': 64},\n",
       "  'kdf': {'type': 'pbkdf2',\n",
       "   'hash': 'sha256',\n",
       "   'iterations': 2668132,\n",
       "   'salt': 'YVAj9pV3AUHax+UY94t9ppiVkaQqGuFNuWyjTX7XkC0='}},\n",
       " '1': {'type': 'luks2',\n",
       "  'key_size': 64,\n",
       "  'af': {'type': 'luks1', 'stripes': 4000, 'hash': 'sha256'},\n",
       "  'area': {'type': 'raw',\n",
       "   'offset': '290816',\n",
       "   'size': '258048',\n",
       "   'encryption': 'aes-xts-plain64',\n",
       "   'key_size': 64},\n",
       "  'kdf': {'type': 'argon2i',\n",
       "   'time': 4,\n",
       "   'memory': 957774,\n",
       "   'cpus': 2,\n",
       "   'salt': 'IfefIdYOzMicOddhYU777gF85B0VIgmxVggm1bD8QWU='}}}"
      ]
     },
     "execution_count": 3,
     "metadata": {},
     "output_type": "execute_result"
    }
   ],
   "source": [
    "header[\"keyslots\"]"
   ]
  },
  {
   "cell_type": "code",
   "execution_count": 4,
   "metadata": {},
   "outputs": [
    {
     "data": {
      "text/plain": [
       "{'0': {'type': 'pbkdf2',\n",
       "  'keyslots': ['0', '1'],\n",
       "  'segments': ['0'],\n",
       "  'hash': 'sha256',\n",
       "  'iterations': 172918,\n",
       "  'salt': '6kx2JyC1vFlcvBnPjZSRVtxFrbSbUzSmcsd2sXKVmc0=',\n",
       "  'digest': 'E1dZnyFebztulM6e3fDtAF5HxrLsnOG4eu4bh3pf4tI='}}"
      ]
     },
     "execution_count": 4,
     "metadata": {},
     "output_type": "execute_result"
    }
   ],
   "source": [
    "header[\"digests\"]"
   ]
  },
  {
   "cell_type": "code",
   "execution_count": null,
   "metadata": {},
   "outputs": [],
   "source": [
    "MK1 = 'ef9d2557-d192-453a-9c09-69ed2b10eb42'\n",
    "MK2 = 'ef9d2557-d192-453a-9c09-69ed2b10eb42'\n"
   ]
  }
 ],
 "metadata": {
  "interpreter": {
   "hash": "1af74b6fd445b57231cb1f4d1d189312d2e0b5c21b4c5b7828a9afbf5c2ec803"
  },
  "kernelspec": {
   "display_name": "Python 3.10.0 64-bit",
   "language": "python",
   "name": "python3"
  },
  "language_info": {
   "codemirror_mode": {
    "name": "ipython",
    "version": 3
   },
   "file_extension": ".py",
   "mimetype": "text/x-python",
   "name": "python",
   "nbconvert_exporter": "python",
   "pygments_lexer": "ipython3",
   "version": "3.10.0"
  },
  "orig_nbformat": 4
 },
 "nbformat": 4,
 "nbformat_minor": 2
}
